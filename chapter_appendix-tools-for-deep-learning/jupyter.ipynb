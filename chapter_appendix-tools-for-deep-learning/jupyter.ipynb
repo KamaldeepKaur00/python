{
  "cells": [
    {
      "cell_type": "code",
      "source": [
        "val = input (\"enter the number: \")\n",
        "val2 = input(\"enter the 2nd number: \")\n",
        "sum = int(val) + int(val2)\n",
        "print(\"the some of val & val2 is : \", sum)"
      ],
      "metadata": {
        "colab": {
          "base_uri": "https://localhost:8080/"
        },
        "id": "sKosfOKjPsiP",
        "outputId": "ff584c99-7493-4bcc-d3fd-17116eecd7d0"
      },
      "id": "sKosfOKjPsiP",
      "execution_count": 3,
      "outputs": [
        {
          "output_type": "stream",
          "name": "stdout",
          "text": [
            "enter the number: 2\n",
            "enter the 2nd number: 3\n",
            "the some of val & val2 is :  5\n"
          ]
        }
      ]
    }
  ],
  "metadata": {
    "kernelspec": {
      "display_name": "Python 3",
      "name": "python3"
    },
    "language_info": {
      "name": "python"
    },
    "required_libs": [],
    "colab": {
      "provenance": []
    }
  },
  "nbformat": 4,
  "nbformat_minor": 5
}